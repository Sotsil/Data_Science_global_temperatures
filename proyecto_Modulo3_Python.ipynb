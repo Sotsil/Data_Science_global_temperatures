{
  "nbformat": 4,
  "nbformat_minor": 0,
  "metadata": {
    "colab": {
      "provenance": [],
      "collapsed_sections": [],
      "authorship_tag": "ABX9TyO9xOcNGWZ174DCOAb9ulk7",
      "include_colab_link": true
    },
    "kernelspec": {
      "name": "python3",
      "display_name": "Python 3"
    },
    "language_info": {
      "name": "python"
    }
  },
  "cells": [
    {
      "cell_type": "markdown",
      "metadata": {
        "id": "view-in-github",
        "colab_type": "text"
      },
      "source": [
        "<a href=\"https://colab.research.google.com/github/Sotsil/Proyecto_DS_Bedu/blob/main/proyecto_Modulo3_Python.ipynb\" target=\"_parent\"><img src=\"https://colab.research.google.com/assets/colab-badge.svg\" alt=\"Open In Colab\"/></a>"
      ]
    },
    {
      "cell_type": "code",
      "source": [
        "!pip install requests"
      ],
      "metadata": {
        "colab": {
          "base_uri": "https://localhost:8080/"
        },
        "id": "Gsu0QTLdZ0w2",
        "outputId": "558e5447-cd93-4459-8ba5-5234973335df"
      },
      "execution_count": null,
      "outputs": [
        {
          "output_type": "stream",
          "name": "stdout",
          "text": [
            "Looking in indexes: https://pypi.org/simple, https://us-python.pkg.dev/colab-wheels/public/simple/\n",
            "Requirement already satisfied: requests in /usr/local/lib/python3.7/dist-packages (2.23.0)\n",
            "Requirement already satisfied: urllib3!=1.25.0,!=1.25.1,<1.26,>=1.21.1 in /usr/local/lib/python3.7/dist-packages (from requests) (1.24.3)\n",
            "Requirement already satisfied: chardet<4,>=3.0.2 in /usr/local/lib/python3.7/dist-packages (from requests) (3.0.4)\n",
            "Requirement already satisfied: certifi>=2017.4.17 in /usr/local/lib/python3.7/dist-packages (from requests) (2022.6.15)\n",
            "Requirement already satisfied: idna<3,>=2.5 in /usr/local/lib/python3.7/dist-packages (from requests) (2.10)\n"
          ]
        }
      ]
    },
    {
      "cell_type": "code",
      "source": [
        "!pip install git+https://github.com/maxhumber/carboninterface.git"
      ],
      "metadata": {
        "colab": {
          "base_uri": "https://localhost:8080/"
        },
        "id": "BtLShVdXWRtW",
        "outputId": "6c8c0428-85f8-4cf7-cec2-1a6fa2c8e8f7"
      },
      "execution_count": null,
      "outputs": [
        {
          "output_type": "stream",
          "name": "stdout",
          "text": [
            "Looking in indexes: https://pypi.org/simple, https://us-python.pkg.dev/colab-wheels/public/simple/\n",
            "Collecting git+https://github.com/maxhumber/carboninterface.git\n",
            "  Cloning https://github.com/maxhumber/carboninterface.git to /tmp/pip-req-build-slgu_c7k\n",
            "  Running command git clone -q https://github.com/maxhumber/carboninterface.git /tmp/pip-req-build-slgu_c7k\n",
            "Requirement already satisfied: requests>=2.23.0 in /usr/local/lib/python3.7/dist-packages (from carboninterface==1.0) (2.23.0)\n",
            "Requirement already satisfied: idna<3,>=2.5 in /usr/local/lib/python3.7/dist-packages (from requests>=2.23.0->carboninterface==1.0) (2.10)\n",
            "Requirement already satisfied: chardet<4,>=3.0.2 in /usr/local/lib/python3.7/dist-packages (from requests>=2.23.0->carboninterface==1.0) (3.0.4)\n",
            "Requirement already satisfied: urllib3!=1.25.0,!=1.25.1,<1.26,>=1.21.1 in /usr/local/lib/python3.7/dist-packages (from requests>=2.23.0->carboninterface==1.0) (1.24.3)\n",
            "Requirement already satisfied: certifi>=2017.4.17 in /usr/local/lib/python3.7/dist-packages (from requests>=2.23.0->carboninterface==1.0) (2022.6.15)\n",
            "Building wheels for collected packages: carboninterface\n",
            "  Building wheel for carboninterface (setup.py) ... \u001b[?25l\u001b[?25hdone\n",
            "  Created wheel for carboninterface: filename=carboninterface-1.0-py3-none-any.whl size=3540 sha256=c5ab412caf95ea5ca46c110122ec41516494a90b3444dcf7942d94809e4c8ef3\n",
            "  Stored in directory: /tmp/pip-ephem-wheel-cache-y21ngye3/wheels/95/d2/be/a4aaee0bc897ef4137b2f280361bd0cef6934b013755fd7f7f\n",
            "Successfully built carboninterface\n",
            "Installing collected packages: carboninterface\n",
            "Successfully installed carboninterface-1.0\n"
          ]
        }
      ]
    },
    {
      "cell_type": "code",
      "source": [
        "from carboninterface import CarbonInterface"
      ],
      "metadata": {
        "id": "b9xcqwZbWBY3"
      },
      "execution_count": null,
      "outputs": []
    },
    {
      "cell_type": "code",
      "source": [
        "import pandas as pd\n",
        "import requests"
      ],
      "metadata": {
        "id": "iwT1UcO7Rc_m"
      },
      "execution_count": null,
      "outputs": []
    },
    {
      "cell_type": "code",
      "source": [
        "ci = CarbonInterface('7yV4ZEGUq1KCQDOMMwIMQ')"
      ],
      "metadata": {
        "id": "C39BRnBoRk-6",
        "colab": {
          "base_uri": "https://localhost:8080/"
        },
        "outputId": "adc6201c-3c46-4e64-9465-e8d5e781bd8b"
      },
      "execution_count": null,
      "outputs": [
        {
          "output_type": "stream",
          "name": "stdout",
          "text": [
            "<Response [200]>\n"
          ]
        }
      ]
    },
    {
      "cell_type": "code",
      "source": [
        "ci = CarbonInterface(api_key='7yV4ZEGUq1KCQDOMMwIMQ', units=\"mt\")"
      ],
      "metadata": {
        "colab": {
          "base_uri": "https://localhost:8080/"
        },
        "id": "xUA20MwcYGrB",
        "outputId": "b4202faa-3d06-45cc-ad56-e6131a3fe69c"
      },
      "execution_count": null,
      "outputs": [
        {
          "output_type": "stream",
          "name": "stdout",
          "text": [
            "<Response [200]>\n"
          ]
        }
      ]
    },
    {
      "cell_type": "markdown",
      "source": [
        "\n",
        "\n",
        "       Estimate carbon emissions for an amount of electricity consumed\n",
        "        Parameters:\n",
        "        - amount: of electricity consumption\n",
        "        - unit (\"mwh\", \"kwh\"): of electricity consumption, defaults to \"mwh\"\n",
        "        - country  more than 32 countries and 60+ sub-regions.  \n",
        "        Visit our    geographic coverage page to see what countries and \n",
        "        regions are supported\n",
        "        - state (optional): two letter ISO state/province\n",
        "        Returns:\n",
        "        - estimated carbon emissions in {self.units}\n",
        "        \"\"\""
      ],
      "metadata": {
        "id": "_EQbRraDd5ec"
      }
    },
    {
      "cell_type": "code",
      "source": [
        "ci.estimate_electricity(amount=10,country= 'EU-27')"
      ],
      "metadata": {
        "colab": {
          "base_uri": "https://localhost:8080/"
        },
        "id": "0cxIG2KZcfXQ",
        "outputId": "00d16e73-cae1-4fb9-d7dc-afbcd743204b"
      },
      "execution_count": null,
      "outputs": [
        {
          "output_type": "execute_result",
          "data": {
            "text/plain": [
              "2.26"
            ]
          },
          "metadata": {},
          "execution_count": 15
        }
      ]
    }
  ]
}